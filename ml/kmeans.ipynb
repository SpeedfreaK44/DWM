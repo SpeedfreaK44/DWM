{
  "nbformat": 4,
  "nbformat_minor": 0,
  "metadata": {
    "colab": {
      "name": "DECISIONTREE.ipynb",
      "version": "0.3.2",
      "provenance": []
    },
    "kernelspec": {
      "display_name": "Python 3",
      "language": "python",
      "name": "python3"
    }
  },
  "cells": [
    {
      "metadata": {
        "id": "-ch3HnFexAXL",
        "colab_type": "text"
      },
      "cell_type": "markdown",
      "source": [
        "## Kmeans clustering example"
      ]
    },
    {
      "metadata": {
        "id": "nTfAVM6ZxAXT",
        "colab_type": "code",
        "colab": {}
      },
      "cell_type": "code",
      "source": [
        "import pandas as pd\n",
        "import matplotlib.pyplot as plt\n",
        "from sklearn.cluster import KMeans\n",
        "import numpy as np"
      ],
      "execution_count": 0,
      "outputs": []
    },
    {
      "metadata": {
        "id": "CjAeAwVgxAXk",
        "colab_type": "code",
        "outputId": "bbc43943-66e5-4de9-bcc2-385a7c12e918",
        "colab": {
          "base_uri": "https://localhost:8080/",
          "height": 426
        }
      },
      "cell_type": "code",
      "source": [
        "df = pd.DataFrame(data={\"x0\":[7, 5, 7, 3, 4, 1, 0, 2, 8, 6, 5, 3], 'x1':[5, 7, 7, 3, 6, 4, 0, 2, 7, 8, 5, 7]})\n",
        "df"
      ],
      "execution_count": 0,
      "outputs": [
        {
          "output_type": "execute_result",
          "data": {
            "text/html": [
              "<div>\n",
              "<style scoped>\n",
              "    .dataframe tbody tr th:only-of-type {\n",
              "        vertical-align: middle;\n",
              "    }\n",
              "\n",
              "    .dataframe tbody tr th {\n",
              "        vertical-align: top;\n",
              "    }\n",
              "\n",
              "    .dataframe thead th {\n",
              "        text-align: right;\n",
              "    }\n",
              "</style>\n",
              "<table border=\"1\" class=\"dataframe\">\n",
              "  <thead>\n",
              "    <tr style=\"text-align: right;\">\n",
              "      <th></th>\n",
              "      <th>x0</th>\n",
              "      <th>x1</th>\n",
              "    </tr>\n",
              "  </thead>\n",
              "  <tbody>\n",
              "    <tr>\n",
              "      <th>0</th>\n",
              "      <td>7</td>\n",
              "      <td>5</td>\n",
              "    </tr>\n",
              "    <tr>\n",
              "      <th>1</th>\n",
              "      <td>5</td>\n",
              "      <td>7</td>\n",
              "    </tr>\n",
              "    <tr>\n",
              "      <th>2</th>\n",
              "      <td>7</td>\n",
              "      <td>7</td>\n",
              "    </tr>\n",
              "    <tr>\n",
              "      <th>3</th>\n",
              "      <td>3</td>\n",
              "      <td>3</td>\n",
              "    </tr>\n",
              "    <tr>\n",
              "      <th>4</th>\n",
              "      <td>4</td>\n",
              "      <td>6</td>\n",
              "    </tr>\n",
              "    <tr>\n",
              "      <th>5</th>\n",
              "      <td>1</td>\n",
              "      <td>4</td>\n",
              "    </tr>\n",
              "    <tr>\n",
              "      <th>6</th>\n",
              "      <td>0</td>\n",
              "      <td>0</td>\n",
              "    </tr>\n",
              "    <tr>\n",
              "      <th>7</th>\n",
              "      <td>2</td>\n",
              "      <td>2</td>\n",
              "    </tr>\n",
              "    <tr>\n",
              "      <th>8</th>\n",
              "      <td>8</td>\n",
              "      <td>7</td>\n",
              "    </tr>\n",
              "    <tr>\n",
              "      <th>9</th>\n",
              "      <td>6</td>\n",
              "      <td>8</td>\n",
              "    </tr>\n",
              "    <tr>\n",
              "      <th>10</th>\n",
              "      <td>5</td>\n",
              "      <td>5</td>\n",
              "    </tr>\n",
              "    <tr>\n",
              "      <th>11</th>\n",
              "      <td>3</td>\n",
              "      <td>7</td>\n",
              "    </tr>\n",
              "  </tbody>\n",
              "</table>\n",
              "</div>"
            ],
            "text/plain": [
              "    x0  x1\n",
              "0    7   5\n",
              "1    5   7\n",
              "2    7   7\n",
              "3    3   3\n",
              "4    4   6\n",
              "5    1   4\n",
              "6    0   0\n",
              "7    2   2\n",
              "8    8   7\n",
              "9    6   8\n",
              "10   5   5\n",
              "11   3   7"
            ]
          },
          "metadata": {
            "tags": []
          },
          "execution_count": 3
        }
      ]
    },
    {
      "metadata": {
        "id": "OK84MirnxAXz",
        "colab_type": "code",
        "colab": {}
      },
      "cell_type": "code",
      "source": [
        "kmeans = KMeans(n_clusters = 2,init = 'random')\n"
      ],
      "execution_count": 0,
      "outputs": []
    },
    {
      "metadata": {
        "id": "jILYc0csxAYJ",
        "colab_type": "code",
        "outputId": "5b3559c7-9be7-4deb-b4a5-06e31bf3a81a",
        "colab": {
          "base_uri": "https://localhost:8080/",
          "height": 86
        }
      },
      "cell_type": "code",
      "source": [
        "model = kmeans.fit(df)\n",
        "y_kmeans = model.predict(df)\n",
        "c = kmeans.cluster_centers_\n",
        "print('Cluseters are',c)\n",
        "print(y_kmeans)\n",
        "model.predict([[10,10]])"
      ],
      "execution_count": 0,
      "outputs": [
        {
          "output_type": "stream",
          "text": [
            "Cluseters are [[1.5   2.25 ]\n",
            " [5.625 6.5  ]]\n",
            "[1 1 1 0 1 0 0 0 1 1 1 1]\n"
          ],
          "name": "stdout"
        },
        {
          "output_type": "execute_result",
          "data": {
            "text/plain": [
              "array([1], dtype=int32)"
            ]
          },
          "metadata": {
            "tags": []
          },
          "execution_count": 5
        }
      ]
    },
    {
      "metadata": {
        "id": "ZJdi_6FTxAYS",
        "colab_type": "code",
        "outputId": "cc42571c-458c-4729-976e-0d09d547c6e0",
        "colab": {
          "base_uri": "https://localhost:8080/",
          "height": 396
        }
      },
      "cell_type": "code",
      "source": [
        "plt.scatter(df['x0'],df['x1'],c=y_kmeans,s=50,cmap='Set1')\n",
        "plt.grid()\n",
        "plt.scatter(kmeans.cluster_centers_[:,0],\n",
        "            kmeans.cluster_centers_[:,1],\n",
        "            c='black',s=200)\n",
        "plt.xlabel('x0')\n",
        "plt.xlabel('x1')\n",
        "print(kmeans.cluster_centers_)"
      ],
      "execution_count": 0,
      "outputs": [
        {
          "output_type": "stream",
          "text": [
            "[[1.5   2.25 ]\n",
            " [5.625 6.5  ]]\n"
          ],
          "name": "stdout"
        },
        {
          "output_type": "display_data",
          "data": {
            "image/png": "[encoded data removed]",
            "text/plain": [
              "<Figure size 576x396 with 1 Axes>"
            ]
          },
          "metadata": {
            "tags": []
          }
        }
      ]
    },
    {
      "metadata": {
        "id": "F_Zp9c6SxAYb",
        "colab_type": "code",
        "outputId": "e98cb497-e425-465c-bb7a-fc283c01cab2",
        "colab": {
          "base_uri": "https://localhost:8080/",
          "height": 52
        }
      },
      "cell_type": "code",
      "source": [
        "# avg b/w centroid and others cluster points\n",
        "\n",
        "c1_centroid = c[0]\n",
        "c2_centroid = c[1]\n",
        "\n",
        "cluster1_points = df[y_kmeans == 0]\n",
        "cluster2_points = df[y_kmeans == 1]\n",
        "\n",
        "m1 = ((cluster1_points['x0']-c1_centroid[0])**2 + (cluster1_points['x1']-c1_centroid[1])**2)**0.5\n",
        "m2 = ((cluster2_points['x0']-c2_centroid[0])**2 + (cluster2_points['x1']-c2_centroid[1])**2)**0.5\n",
        "\n",
        "print(m1.mean())\n",
        "print(m2.mean())\n"
      ],
      "execution_count": 0,
      "outputs": [
        {
          "output_type": "stream",
          "text": [
            "1.6900647266044777\n",
            "1.783616848362815\n"
          ],
          "name": "stdout"
        }
      ]
    },
    {
      "metadata": {
        "id": "lktjaQTPxAYn",
        "colab_type": "code",
        "colab": {}
      },
      "cell_type": "code",
      "source": [
        ""
      ],
      "execution_count": 0,
      "outputs": []
    }
  ]
}