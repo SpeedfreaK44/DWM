{
  "nbformat": 4,
  "nbformat_minor": 0,
  "metadata": {
    "colab": {
      "name": "DECISIONTREE.ipynb",
      "version": "0.3.2",
      "provenance": [],
      "collapsed_sections": []
    },
    "kernelspec": {
      "display_name": "Python 3",
      "language": "python",
      "name": "python3"
    }
  },
  "cells": [
    {
      "metadata": {
        "id": "BRuXb7vKkYC4",
        "colab_type": "text"
      },
      "cell_type": "markdown",
      "source": [
        "## Kmeans clustering example"
      ]
    },
    {
      "metadata": {
        "id": "8XU0UFgVkYC9",
        "colab_type": "code",
        "colab": {}
      },
      "cell_type": "code",
      "source": [
        "import pandas as pd\n",
        "import matplotlib.pyplot as plt\n",
        "from sklearn.cluster import KMeans\n",
        "import numpy as np"
      ],
      "execution_count": 0,
      "outputs": []
    },
    {
      "metadata": {
        "id": "VDQWW_jjkYDG",
        "colab_type": "code",
        "outputId": "33fd1cc0-4182-4cd0-a7ca-51f854286d96",
        "colab": {
          "base_uri": "https://localhost:8080/",
          "height": 426
        }
      },
      "cell_type": "code",
      "source": [
        "df = pd.DataFrame(data={\"x0\":[7, 5, 7, 3, 4, 1, 0, 2, 8, 6, 5, 3], 'x1':[5, 7, 7, 3, 6, 4, 0, 2, 7, 8, 5, 7]})\n",
        "df"
      ],
      "execution_count": 0,
      "outputs": [
        {
          "output_type": "execute_result",
          "data": {
            "text/html": [
              "<div>\n",
              "<style scoped>\n",
              "    .dataframe tbody tr th:only-of-type {\n",
              "        vertical-align: middle;\n",
              "    }\n",
              "\n",
              "    .dataframe tbody tr th {\n",
              "        vertical-align: top;\n",
              "    }\n",
              "\n",
              "    .dataframe thead th {\n",
              "        text-align: right;\n",
              "    }\n",
              "</style>\n",
              "<table border=\"1\" class=\"dataframe\">\n",
              "  <thead>\n",
              "    <tr style=\"text-align: right;\">\n",
              "      <th></th>\n",
              "      <th>x0</th>\n",
              "      <th>x1</th>\n",
              "    </tr>\n",
              "  </thead>\n",
              "  <tbody>\n",
              "    <tr>\n",
              "      <th>0</th>\n",
              "      <td>7</td>\n",
              "      <td>5</td>\n",
              "    </tr>\n",
              "    <tr>\n",
              "      <th>1</th>\n",
              "      <td>5</td>\n",
              "      <td>7</td>\n",
              "    </tr>\n",
              "    <tr>\n",
              "      <th>2</th>\n",
              "      <td>7</td>\n",
              "      <td>7</td>\n",
              "    </tr>\n",
              "    <tr>\n",
              "      <th>3</th>\n",
              "      <td>3</td>\n",
              "      <td>3</td>\n",
              "    </tr>\n",
              "    <tr>\n",
              "      <th>4</th>\n",
              "      <td>4</td>\n",
              "      <td>6</td>\n",
              "    </tr>\n",
              "    <tr>\n",
              "      <th>5</th>\n",
              "      <td>1</td>\n",
              "      <td>4</td>\n",
              "    </tr>\n",
              "    <tr>\n",
              "      <th>6</th>\n",
              "      <td>0</td>\n",
              "      <td>0</td>\n",
              "    </tr>\n",
              "    <tr>\n",
              "      <th>7</th>\n",
              "      <td>2</td>\n",
              "      <td>2</td>\n",
              "    </tr>\n",
              "    <tr>\n",
              "      <th>8</th>\n",
              "      <td>8</td>\n",
              "      <td>7</td>\n",
              "    </tr>\n",
              "    <tr>\n",
              "      <th>9</th>\n",
              "      <td>6</td>\n",
              "      <td>8</td>\n",
              "    </tr>\n",
              "    <tr>\n",
              "      <th>10</th>\n",
              "      <td>5</td>\n",
              "      <td>5</td>\n",
              "    </tr>\n",
              "    <tr>\n",
              "      <th>11</th>\n",
              "      <td>3</td>\n",
              "      <td>7</td>\n",
              "    </tr>\n",
              "  </tbody>\n",
              "</table>\n",
              "</div>"
            ],
            "text/plain": [
              "    x0  x1\n",
              "0    7   5\n",
              "1    5   7\n",
              "2    7   7\n",
              "3    3   3\n",
              "4    4   6\n",
              "5    1   4\n",
              "6    0   0\n",
              "7    2   2\n",
              "8    8   7\n",
              "9    6   8\n",
              "10   5   5\n",
              "11   3   7"
            ]
          },
          "metadata": {
            "tags": []
          },
          "execution_count": 11
        }
      ]
    },
    {
      "metadata": {
        "id": "y5JNrFs3kYDQ",
        "colab_type": "code",
        "colab": {}
      },
      "cell_type": "code",
      "source": [
        "kmeans = KMeans(n_clusters = 2,init = 'random')\n"
      ],
      "execution_count": 0,
      "outputs": []
    },
    {
      "metadata": {
        "id": "1OAz3na1kYDY",
        "colab_type": "code",
        "outputId": "db2b2b65-0e5f-47ae-99e0-05b2f4e50b63",
        "colab": {
          "base_uri": "https://localhost:8080/",
          "height": 86
        }
      },
      "cell_type": "code",
      "source": [
        "model = kmeans.fit(df)\n",
        "y_kmeans = model.predict(df)\n",
        "c = kmeans.cluster_centers_\n",
        "print('Cluseters are',c)\n",
        "print(y_kmeans)\n",
        "model.predict([[10,10]])"
      ],
      "execution_count": 0,
      "outputs": [
        {
          "output_type": "stream",
          "text": [
            "Cluseters are [[5.625 6.5  ]\n",
            " [1.5   2.25 ]]\n",
            "[0 0 0 1 0 1 1 1 0 0 0 0]\n"
          ],
          "name": "stdout"
        },
        {
          "output_type": "execute_result",
          "data": {
            "text/plain": [
              "array([0], dtype=int32)"
            ]
          },
          "metadata": {
            "tags": []
          },
          "execution_count": 13
        }
      ]
    },
    {
      "metadata": {
        "id": "rsOlOLffkYDe",
        "colab_type": "code",
        "outputId": "db75f830-10f6-4328-b44f-e45b9d8cfa9d",
        "colab": {
          "base_uri": "https://localhost:8080/",
          "height": 396
        }
      },
      "cell_type": "code",
      "source": [
        "plt.scatter(df['x0'],df['x1'],c=y_kmeans,s=50,cmap='Set1')\n",
        "plt.grid()\n",
        "plt.scatter(kmeans.cluster_centers_[:,0],\n",
        "            kmeans.cluster_centers_[:,1],\n",
        "            c='black',s=200)\n",
        "plt.xlabel('x0')\n",
        "plt.xlabel('x1')\n",
        "print(kmeans.cluster_centers_)"
      ],
      "execution_count": 0,
      "outputs": [
        {
          "output_type": "stream",
          "text": [
            "[[5.625 6.5  ]\n",
            " [1.5   2.25 ]]\n"
          ],
          "name": "stdout"
        },
        {
          "output_type": "display_data",
          "data": {
            "image/png": "[encoded data removed]",
            "text/plain": [
              "<Figure size 576x396 with 1 Axes>"
            ]
          },
          "metadata": {
            "tags": []
          }
        }
      ]
    },
    {
      "metadata": {
        "id": "WOIuoo-tkYDl",
        "colab_type": "code",
        "outputId": "9b9aef95-39b3-401b-9bb7-dc5454de5bd4",
        "colab": {
          "base_uri": "https://localhost:8080/",
          "height": 52
        }
      },
      "cell_type": "code",
      "source": [
        "# avg b/w centroid and others cluster points\n",
        "\n",
        "c1_centroid = c[0]\n",
        "c2_centroid = c[1]\n",
        "\n",
        "cluster1_points = df[y_kmeans == 0]\n",
        "cluster2_points = df[y_kmeans == 1]\n",
        "\n",
        "m1 = ((cluster1_points['x0']-c1_centroid[0])**2 + (cluster1_points['x1']-c1_centroid[1])**2)**0.5\n",
        "m2 = ((cluster2_points['x0']-c2_centroid[0])**2 + (cluster2_points['x1']-c2_centroid[1])**2)**0.5\n",
        "\n",
        "print(m1.mean())\n",
        "print(m2.mean())\n"
      ],
      "execution_count": 0,
      "outputs": [
        {
          "output_type": "stream",
          "text": [
            "1.783616848362815\n",
            "1.6900647266044777\n"
          ],
          "name": "stdout"
        }
      ]
    },
    {
      "metadata": {
        "id": "eRFctBX8kYDu",
        "colab_type": "code",
        "colab": {}
      },
      "cell_type": "code",
      "source": [
        ""
      ],
      "execution_count": 0,
      "outputs": []
    }
  ]
}